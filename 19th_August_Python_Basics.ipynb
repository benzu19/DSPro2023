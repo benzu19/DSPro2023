{
 "cells": [
  {
   "cell_type": "code",
   "execution_count": 1,
   "id": "9f7920c8-612e-435e-a5c9-be75e54e2add",
   "metadata": {},
   "outputs": [
    {
     "name": "stdout",
     "output_type": "stream",
     "text": [
      "10\n",
      "20\n"
     ]
    }
   ],
   "source": [
    "'''1. Declare two variables, `x` and `y`, and assign them integer values. Swap the values of these variables without using any temporary variable.'''\n",
    "x=10\n",
    "y=20\n",
    "x,y=y,x\n",
    "print(y)\n",
    "print(x)\n"
   ]
  },
  {
   "cell_type": "code",
   "execution_count": 6,
   "id": "bc8c55ab-4ed7-4017-85c5-d7e29cc72b74",
   "metadata": {},
   "outputs": [
    {
     "name": "stdin",
     "output_type": "stream",
     "text": [
      "Enter height: 10\n",
      "Enter width: 20\n"
     ]
    },
    {
     "name": "stdout",
     "output_type": "stream",
     "text": [
      "area = 200.0\n"
     ]
    }
   ],
   "source": [
    "'''Create a program that calculates the area of a rectangle. Take the length and width as inputs from the user and store them in variables. Calculate and display the area.'''\n",
    "\n",
    "height = float(input(\"Enter height:\"))\n",
    "width = float(input(\"Enter width:\"))\n",
    "area = height * width\n",
    "print(\"Area of rectagle= \"+ str(area))\n"
   ]
  },
  {
   "cell_type": "code",
   "execution_count": 7,
   "id": "8b21cad9-cb18-4eb9-982b-74192e83f993",
   "metadata": {},
   "outputs": [
    {
     "name": "stdin",
     "output_type": "stream",
     "text": [
      "Enter celsius value: 45\n"
     ]
    },
    {
     "name": "stdout",
     "output_type": "stream",
     "text": [
      "Temperature in Fahrenheit : 113.0\n"
     ]
    }
   ],
   "source": [
    "'''Write a Python program that converts temperatures from Celsius to Fahrenheit. Take the temperature in Celsius as input, store it in a variable, convert it to Fahrenheit, and display the result.'''\n",
    "\n",
    "celsius = float(input(\"Enter celsius value:\"))\n",
    "fahrenheit = (1.8 * celsius) + 32\n",
    "print(\"Temperature in Fahrenheit:\", fahrenheit)"
   ]
  },
  {
   "cell_type": "code",
   "execution_count": 8,
   "id": "60baf100-ce78-4e9e-a6d6-664266893c76",
   "metadata": {},
   "outputs": [
    {
     "name": "stdin",
     "output_type": "stream",
     "text": [
      "Enter String value: test\n"
     ]
    },
    {
     "name": "stdout",
     "output_type": "stream",
     "text": [
      "Length of String value is: 4\n"
     ]
    }
   ],
   "source": [
    "'''Write a Python program that takes a string as input and prints the length of the string.'''\n",
    "inputStr = str(input(\"Enter String value:\"))\n",
    "print(\"Length of String value is:\", len(inputStr))"
   ]
  },
  {
   "cell_type": "code",
   "execution_count": 4,
   "id": "699277c4-c1a0-4bf5-8951-def07076b7cc",
   "metadata": {},
   "outputs": [
    {
     "name": "stdout",
     "output_type": "stream",
     "text": [
      "number of volwels in sentence 3\n"
     ]
    }
   ],
   "source": [
    "'''Create a program that takes a sentence from the user and counts the number of vowels (a, e, i, o, u) in the string.'''\n",
    "inputStr = str(input(\"Enter sentence to find number of vowels:\"))\n",
    "vowelList = ['a','e','i','o','u']\n",
    "count=0\n",
    "for i in range(len(inputStr)):\n",
    "        if inputStr[i] in vowelList:\n",
    "            count +=1;\n",
    "\n",
    "print(\"number of vowels in sentence:\",count)\n"
   ]
  },
  {
   "cell_type": "code",
   "execution_count": 6,
   "id": "d43157b2-3290-4f3f-95aa-a3049922b17e",
   "metadata": {},
   "outputs": [
    {
     "name": "stdout",
     "output_type": "stream",
     "text": [
      "olleH\n"
     ]
    }
   ],
   "source": [
    "'''Given a string, reverse the order of characters using string slicing and print the reversed string'''\n",
    "inputStr = \"Hello\"\n",
    "print(inputStr[::-1])"
   ]
  },
  {
   "cell_type": "code",
   "execution_count": 3,
   "id": "eda0d0ee-7ee0-430e-ae0d-a2ba22f45670",
   "metadata": {},
   "outputs": [
    {
     "name": "stdin",
     "output_type": "stream",
     "text": [
      "Enter word to check if it is a palindrome:  pen\n"
     ]
    },
    {
     "name": "stdout",
     "output_type": "stream",
     "text": [
      "The given input is not a palindrome.\n"
     ]
    }
   ],
   "source": [
    "'''Write a program that takes a string as input and checks if it is a palindrome(reads the same forwards and backwards)'''\n",
    "inputStr = str(input(\"Enter word to check if it is a palindrome: \"))\n",
    "inputStr = inputStr.casefold()\n",
    "inputStrReversed = reversed(inputStr)\n",
    "if list(inputStr) == list(inputStrReversed):\n",
    "    print(\"The given input is a palindrome.\")\n",
    "else:\n",
    "    print(\"The given input is not a palindrome.\")\n",
    "        "
   ]
  },
  {
   "cell_type": "code",
   "execution_count": 4,
   "id": "df98e838-fcac-4997-b373-58a39c9c2f7d",
   "metadata": {},
   "outputs": [
    {
     "name": "stdin",
     "output_type": "stream",
     "text": [
      "Enter String input to remove spaces:  a p p l  e\n"
     ]
    },
    {
     "name": "stdout",
     "output_type": "stream",
     "text": [
      "apple\n"
     ]
    }
   ],
   "source": [
    "'''Create a program that takes a string as input and removes all the spaces from it. Print the modified string without spaces.'''\n",
    "inputStr = str(input(\"Enter String input to remove spaces: \"))\n",
    "print(inputStr.replace(\" \",\"\"))\n",
    "\n"
   ]
  },
  {
   "cell_type": "code",
   "execution_count": null,
   "id": "d144a872-7096-4b8a-97eb-b95e375f7a82",
   "metadata": {},
   "outputs": [],
   "source": []
  }
 ],
 "metadata": {
  "kernelspec": {
   "display_name": "Python 3 (ipykernel)",
   "language": "python",
   "name": "python3"
  },
  "language_info": {
   "codemirror_mode": {
    "name": "ipython",
    "version": 3
   },
   "file_extension": ".py",
   "mimetype": "text/x-python",
   "name": "python",
   "nbconvert_exporter": "python",
   "pygments_lexer": "ipython3",
   "version": "3.10.8"
  }
 },
 "nbformat": 4,
 "nbformat_minor": 5
}
